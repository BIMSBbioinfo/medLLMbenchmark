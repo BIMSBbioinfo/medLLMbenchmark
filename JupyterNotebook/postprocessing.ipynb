{
 "cells": [
  {
   "cell_type": "markdown",
   "metadata": {},
   "source": [
    "## Import Libraries"
   ]
  },
  {
   "cell_type": "code",
   "execution_count": null,
   "metadata": {},
   "outputs": [],
   "source": [
    "import pandas as pd\n",
    "import re\n",
    "import time\n",
    "import os\n",
    "from tqdm import tqdm\n",
    "\n",
    "import boto3\n",
    "from langchain.prompts import PromptTemplate\n",
    "from langchain_aws import ChatBedrock\n",
    "\n",
    "from IPython.display import display, HTML"
   ]
  },
  {
   "cell_type": "markdown",
   "metadata": {},
   "source": [
    "## Data Display"
   ]
  },
  {
   "cell_type": "code",
   "execution_count": null,
   "metadata": {},
   "outputs": [],
   "source": [
    "def data_display(data):\n",
    "    # Display the DataFrame with scroll and define the height and width for the scrollable area\n",
    "    display(HTML(f'''\n",
    "    <div style=\"height: 500px; overflow-y: scroll; overflow-x: scroll; border: 1px solid black; padding: 5px;\">\n",
    "        {data.to_html(max_rows=None, max_cols=None)}\n",
    "    </div>\n",
    "    '''))"
   ]
  },
  {
   "cell_type": "markdown",
   "metadata": {},
   "source": [
    "# Triage"
   ]
  },
  {
   "cell_type": "markdown",
   "metadata": {},
   "source": [
    "## Load Data Triage"
   ]
  },
  {
   "cell_type": "code",
   "execution_count": null,
   "metadata": {},
   "outputs": [],
   "source": [
    "## Load Data from Claude_triage_diagnosis_specialty.ipynb\n",
    "df = pd.read_csv(\"MIMIC-IV-Ext-Triage.csv\")"
   ]
  },
  {
   "cell_type": "markdown",
   "metadata": {},
   "source": [
    "## Extract the Prediction from the <acuity> tag"
   ]
  },
  {
   "cell_type": "code",
   "execution_count": null,
   "metadata": {},
   "outputs": [],
   "source": [
    "def parse_triage(triage):\n",
    "    #parse whats in between <acuity>  and </acuity> tag\n",
    "    try:\n",
    "        triage = triage.split('<acuity>')[-1].split('</acuity>')[0]\n",
    "    except Exception as e:\n",
    "        print(triage, f\"{e}\")\n",
    "    return triage\n",
    "\n",
    "df[\"triage_Claude3.5\"] = df[\"triage_Claude3.5\"].apply(parse_triage)\n",
    "df[\"triage_Claude3\"] = df[\"triage_Claude3\"].apply(parse_triage)\n",
    "df[\"triage_Haiku\"] = df[\"triage_Haiku\"].apply(parse_triage)\n",
    "df[\"triage_Claude3.5_Clinical\"] = df[\"triage_Claude3.5_Clinical\"].apply(parse_triage)\n",
    "df[\"triage_Claude3_Clinical\"] = df[\"triage_Claude3_Clinical\"].apply(parse_triage)\n",
    "df[\"triage_Haiku_Clinical\"] = df[\"triage_Haiku_Clinical\"].apply(parse_triage)\n"
   ]
  },
  {
   "cell_type": "markdown",
   "metadata": {},
   "source": [
    "## remove \"esi level\" string before the triage prediction"
   ]
  },
  {
   "cell_type": "code",
   "execution_count": null,
   "metadata": {},
   "outputs": [],
   "source": [
    "def extract_esi_level(text):\n",
    "    # Regular expression to find \"ESI Level\" followed by a number\n",
    "    if pd.isna(text):\n",
    "        return(text)\n",
    "    else:\n",
    "        match = re.search(r'esi level\\s*(\\d+)', text.lower())\n",
    "        \n",
    "        if match:\n",
    "            return match.group(1)  # Extract the number part\n",
    "        else:\n",
    "            return text\n",
    "        \n",
    "df[\"triage_Claude3.5\"] = df[\"triage_Claude3.5\"].apply(extract_esi_level)\n",
    "df[\"triage_Claude3\"] = df[\"triage_Claude3\"].apply(extract_esi_level)\n",
    "df[\"triage_Haiku\"] = df[\"triage_Haiku\"].apply(extract_esi_level)\n",
    "df[\"triage_Claude3.5_Clinical\"] = df[\"triage_Claude3.5_Clinical\"].apply(extract_esi_level)\n",
    "df[\"triage_Claude3_Clinical\"] = df[\"triage_Claude3_Clinical\"].apply(extract_esi_level)\n",
    "df[\"triage_Haiku_Clinical\"] = df[\"triage_Haiku_Clinical\"].apply(extract_esi_level)"
   ]
  },
  {
   "cell_type": "markdown",
   "metadata": {},
   "source": [
    "## convert the prediction to \"int\""
   ]
  },
  {
   "cell_type": "code",
   "execution_count": null,
   "metadata": {},
   "outputs": [],
   "source": [
    "def convert_to_int(text):\n",
    "    try:\n",
    "        return int(text)  # Try to convert the string to an integer\n",
    "    except ValueError:\n",
    "        return text\n",
    "    \n",
    "df[\"triage_Claude3.5\"] = df[\"triage_Claude3.5\"].apply(convert_to_int)\n",
    "df[\"triage_Claude3\"] = df[\"triage_Claude3\"].apply(convert_to_int)\n",
    "df[\"triage_Haiku\"] = df[\"triage_Haiku\"].apply(convert_to_int)\n",
    "df[\"triage_Claude3.5_Clinical\"] = df[\"triage_Claude3.5_Clinical\"].apply(convert_to_int)\n",
    "df[\"triage_Claude3_Clinical\"] = df[\"triage_Claude3_Clinical\"].apply(convert_to_int)\n",
    "df[\"triage_Haiku_Clinical\"] = df[\"triage_Haiku_Clinical\"].apply(convert_to_int)\n",
    "\n",
    "\n",
    "## save file\n",
    "df.to_csv('MIMIC-IV-Ext-Triage-prediction.csv', index=False)"
   ]
  },
  {
   "cell_type": "markdown",
   "metadata": {},
   "source": [
    "# Specialty"
   ]
  },
  {
   "cell_type": "markdown",
   "metadata": {},
   "source": [
    "## Load Data Specialty"
   ]
  },
  {
   "cell_type": "code",
   "execution_count": null,
   "metadata": {},
   "outputs": [],
   "source": [
    "## Load Data from Claude_triage_diagnosis_specialty.ipynb\n",
    "df = pd.read_csv(\"MIMIC-IV-Ext-Diagnosis-Specialty.csv\")"
   ]
  },
  {
   "cell_type": "markdown",
   "metadata": {},
   "source": [
    "## extract the Prediction from the <Specialty> tag"
   ]
  },
  {
   "cell_type": "code",
   "execution_count": null,
   "metadata": {},
   "outputs": [],
   "source": [
    "def parse_specialty(specialty):\n",
    "    #parse whats in between <specialty>  and </specialty> tag\n",
    "    try:\n",
    "        spec1 = specialty.split('<specialty>')[1].split('</specialty>')[0]\n",
    "        spec2 = specialty.split('<specialty>')[2].split('</specialty>')[0]\n",
    "        spec3 = specialty.split('<specialty>')[3].split('</specialty>')[0]\n",
    "        specialty = [spec1, spec2, spec3]\n",
    "    except Exception as e1:\n",
    "            e1\n",
    "            try: \n",
    "                specialty = specialty.split('<specialty>')[-1].split('</specialty>')[0]\n",
    "            except Exception as e2:\n",
    "                print(f\"{e2}\")\n",
    "    return specialty\n",
    "\n",
    "df[\"specialty_Claude3.5\"] = df[\"diag_spec_Claude3.5\"].apply(parse_specialty)\n",
    "df[\"specialty_Claude3\"] = df[\"diag_spec_Claude3\"].apply(parse_specialty)\n",
    "df[\"specialty_Haiku\"] = df[\"diag_spec_Haiku\"].apply(parse_specialty)\n",
    "df[\"specialty_Claude3.5_Clinical\"] = df[\"diag_spec_Claude3.5_Clinical\"].apply(parse_specialty)\n",
    "df[\"specialty_Claude3_Clinical\"] = df[\"diag_spec_Claude3_Clinical\"].apply(parse_specialty)\n",
    "df[\"specialty_Haiku_Clinical\"] = df[\"diag_spec_Haiku_Clinical\"].apply(parse_specialty)\n"
   ]
  },
  {
   "cell_type": "markdown",
   "metadata": {},
   "source": [
    "## remove leading newline "
   ]
  },
  {
   "cell_type": "code",
   "execution_count": null,
   "metadata": {},
   "outputs": [],
   "source": [
    "def remove_leading_newline(text):\n",
    "    if isinstance(text, str):  # Check if the input is a string\n",
    "        # Remove leading '\\n' (newline) and leading '\\\\n' (literal backslash followed by 'n')\n",
    "        if text.startswith(\"\\\\n\"):  # Handle literal \"\\\\n\"\n",
    "            return text[2:]  # Remove the first two characters (i.e., \"\\\\n\")\n",
    "        else:\n",
    "            return text.lstrip('\\n')  # Remove actual newline characters\n",
    "    else:\n",
    "        return text  # Return the input unchanged if it's not a string\n",
    "\n",
    "df[\"specialty_Claude3.5\"] = df[\"specialty_Claude3.5\"].apply(remove_leading_newline)\n",
    "df[\"specialty_Claude3\"] = df[\"specialty_Claude3\"].apply(remove_leading_newline)\n",
    "df[\"specialty_Haiku\"] = df[\"specialty_Haiku\"].apply(remove_leading_newline)\n",
    "df[\"specialty_Claude3.5_exp\"] = df[\"specialty_Claude3.5_exp\"].apply(remove_leading_newline)\n",
    "df[\"specialty_Claude3_exp\"] = df[\"specialty_Claude3_exp\"].apply(remove_leading_newline)\n",
    "df[\"specialty_Haiku_exp\"] = df[\"specialty_Haiku_exp\"].apply(remove_leading_newline)"
   ]
  },
  {
   "cell_type": "markdown",
   "metadata": {},
   "source": [
    "## create a list of the predicted specialties for each patient"
   ]
  },
  {
   "cell_type": "code",
   "execution_count": null,
   "metadata": {},
   "outputs": [],
   "source": [
    "def create_list(text):\n",
    "    if type(text) == str:\n",
    "        try:\n",
    "            text1 = text.split('\\n')[0]\n",
    "            text2 = text.split('\\n')[1]\n",
    "            text3 = text.split('\\n')[2]\n",
    "            text = [text1, text2, text3]\n",
    "        except Exception as e1:\n",
    "            try:\n",
    "                text1 = text.split('\\\\n')[0]\n",
    "                text2 = text.split('\\\\n')[1]\n",
    "                text3 = text.split('\\\\n')[2]\n",
    "                text = [text1, text2, text3]\n",
    "            except Exception as e2:\n",
    "                print(text, f\"{e2}\")\n",
    "        return text\n",
    "    else:\n",
    "        return(text)\n",
    "\n",
    "df[\"specialty_Claude3.5\"] = df[\"specialty_Claude3.5\"].apply(create_list)\n",
    "df[\"specialty_Claude3\"] = df[\"specialty_Claude3\"].apply(create_list)\n",
    "df[\"specialty_Haiku\"] = df[\"specialty_Haiku\"].apply(create_list)\n",
    "df[\"specialty_Claude3.5_Clinical\"] = df[\"specialty_Claude3.5_Clinical\"].apply(create_list)\n",
    "df[\"specialty_Claude3_Clinical\"] = df[\"specialty_Claude3_Clinical\"].apply(create_list)\n",
    "df[\"specialty_Haiku_Clinical\"] = df[\"specialty_Haiku_Clinical\"].apply(create_list)"
   ]
  },
  {
   "cell_type": "markdown",
   "metadata": {},
   "source": [
    "## remove the numeration in some of the predictions"
   ]
  },
  {
   "cell_type": "code",
   "execution_count": null,
   "metadata": {},
   "outputs": [],
   "source": [
    "def remove_numeration(entry):\n",
    "    # Use regular expression to remove leading numeration only for '1.', '2.', or '3.'\n",
    "    return re.sub(r'^[1-3]\\.\\s*', '', entry)\n",
    "\n",
    "df[\"specialty_Claude3.5\"] = df[\"specialty_Claude3.5\"].apply(lambda lst: [remove_numeration(entry) for entry in lst] if isinstance(lst, list) else lst)\n",
    "df[\"specialty_Claude3\"] = df[\"specialty_Claude3\"].apply(lambda lst: [remove_numeration(entry) for entry in lst] if isinstance(lst, list) else lst)\n",
    "df[\"specialty_Haiku\"] = df[\"specialty_Haiku\"].apply(lambda lst: [remove_numeration(entry) for entry in lst] if isinstance(lst, list) else lst)\n",
    "df[\"specialty_Claude3.5_Clinical\"] = df[\"specialty_Claude3.5_Clinical\"].apply(lambda lst: [remove_numeration(entry) for entry in lst] if isinstance(lst, list) else lst)\n",
    "df[\"specialty_Claude3_Clinical\"] = df[\"specialty_Claude3_Clinical\"].apply(lambda lst: [remove_numeration(entry) for entry in lst] if isinstance(lst, list) else lst)\n",
    "df[\"specialty_Haiku_Clinical\"] = df[\"specialty_Haiku_Clinical\"].apply(lambda lst: [remove_numeration(entry) for entry in lst] if isinstance(lst, list) else lst)\n"
   ]
  },
  {
   "cell_type": "markdown",
   "metadata": {},
   "source": [
    "## Cleaning the Dataframe for clarity"
   ]
  },
  {
   "cell_type": "code",
   "execution_count": null,
   "metadata": {},
   "outputs": [],
   "source": [
    "df = df.drop(columns=[\"diag_spec_Claude3.5\", \"diag_spec_Claude3\", \"diag_spec_Haiku\", \"diag_spec_Claude3.5_Clinical\", \"diag_spec_Claude3_Clinical\", \"diag_spec_Haiku_Clinical\"])\n",
    "\n",
    "## save file\n",
    "df.to_csv('MIMIC-IV-Ext-Specialty-prediction.csv', index=False)"
   ]
  },
  {
   "cell_type": "markdown",
   "metadata": {},
   "source": [
    "# Diagnosis"
   ]
  },
  {
   "cell_type": "markdown",
   "metadata": {},
   "source": [
    "## Load Data Diagnosis"
   ]
  },
  {
   "cell_type": "code",
   "execution_count": null,
   "metadata": {},
   "outputs": [],
   "source": [
    "## Load Data from Claude_triage_diagnosis_specialty.ipynb\n",
    "df = pd.read_csv(\"MIMIC-IV-Ext-Diagnosis-Specialty.csv\")"
   ]
  },
  {
   "cell_type": "markdown",
   "metadata": {},
   "source": [
    "## extract the Prediction from the <diagnosis> tag"
   ]
  },
  {
   "cell_type": "code",
   "execution_count": null,
   "metadata": {},
   "outputs": [],
   "source": [
    "def parse_diagnosis(diagnosis):\n",
    "    #parse whats in between <diagnosis>  and </diagnosis> tag\n",
    "    try:\n",
    "        diag1 = diagnosis.split('<diagnosis>')[1].split('</diagnosis>')[0]\n",
    "        diag2 = diagnosis.split('<diagnosis>')[2].split('</diagnosis>')[0]\n",
    "        diag3 = diagnosis.split('<diagnosis>')[3].split('</diagnosis>')[0]\n",
    "        diagnosis = [diag1, diag2, diag3]\n",
    "    except Exception as e1:\n",
    "        e1\n",
    "        try: \n",
    "            diagnosis = diagnosis.split('<diagnosis>')[-1].split('</diagnosis>')[0]\n",
    "        except Exception as e2:\n",
    "            print(f\"{e2}\")\n",
    "    return diagnosis\n",
    "\n",
    "df[\"diagnosis_Claude3.5\"] = df[\"diag_spec_Claude3.5\"].apply(parse_diagnosis)\n",
    "df[\"diagnosis_Claude3\"] = df[\"diag_spec_Claude3\"].apply(parse_diagnosis)\n",
    "df[\"diagnosis_Haiku\"] = df[\"diag_spec_Haiku\"].apply(parse_diagnosis)\n",
    "df[\"diagnosis_Claude3.5_Clinical\"] = df[\"diag_spec_Claude3.5_Clinical\"].apply(parse_diagnosis)\n",
    "df[\"diagnosis_Claude3_Clinical\"] = df[\"diag_spec_Claude3_Clinical\"].apply(parse_diagnosis)\n",
    "df[\"diagnosis_Haiku_Clinical\"] = df[\"diag_spec_Haiku_Clinical\"].apply(parse_diagnosis)\n",
    "\n"
   ]
  },
  {
   "cell_type": "markdown",
   "metadata": {},
   "source": [
    "## remove leading newline "
   ]
  },
  {
   "cell_type": "code",
   "execution_count": null,
   "metadata": {},
   "outputs": [],
   "source": [
    "def remove_leading_newline(text):\n",
    "    if isinstance(text, str):  # Check if the input is a string\n",
    "        # Remove leading '\\n' (newline) and leading '\\\\n' (literal backslash followed by 'n')\n",
    "        if text.startswith(\"\\\\n\"):  # Handle literal \"\\\\n\"\n",
    "            return text[2:]  # Remove the first two characters (i.e., \"\\\\n\")\n",
    "        else:\n",
    "            return text.lstrip('\\n')  # Remove actual newline characters\n",
    "    else:\n",
    "        return text  # Return the input unchanged if it's not a string\n",
    "    \n",
    "df[\"diagnosis_Claude3.5\"] = df[\"diagnosis_Claude3.5\"].apply(remove_leading_newline)\n",
    "df[\"diagnosis_Claude3\"] = df[\"diagnosis_Claude3\"].apply(remove_leading_newline)\n",
    "df[\"diagnosis_Haiku\"] = df[\"diagnosis_Haiku\"].apply(remove_leading_newline)\n",
    "df[\"diagnosis_Claude3.5_Clinical\"] = df[\"diagnosis_Claude3.5_Clinical\"].apply(remove_leading_newline)\n",
    "df[\"diagnosis_Claude3_Clinical\"] = df[\"diagnosis_Claude3_Clinical\"].apply(remove_leading_newline)\n",
    "df[\"diagnosis_Haiku_Clinical\"] = df[\"diagnosis_Haiku_Clinical\"].apply(remove_leading_newline)\n"
   ]
  },
  {
   "cell_type": "markdown",
   "metadata": {},
   "source": [
    "## craete a list of the predicted diagnoses for each patient"
   ]
  },
  {
   "cell_type": "code",
   "execution_count": null,
   "metadata": {},
   "outputs": [],
   "source": [
    "def create_list(text):\n",
    "    if type(text) == str:\n",
    "        try:\n",
    "            text1 = text.split('\\n')[0]\n",
    "            text2 = text.split('\\n')[1]\n",
    "            text3 = text.split('\\n')[2]\n",
    "            text = [text1, text2, text3]\n",
    "        except Exception as e1:\n",
    "            try:\n",
    "                text1 = text.split('\\\\n')[0]\n",
    "                text2 = text.split('\\\\n')[1]\n",
    "                text3 = text.split('\\\\n')[2]\n",
    "                text = [text1, text2, text3]\n",
    "            except Exception as e2:\n",
    "                print(text, f\"{e2}\")\n",
    "        return text\n",
    "    else:\n",
    "        return(text)\n",
    "    \n",
    "df[\"diagnosis_Claude3.5\"] = df[\"diagnosis_Claude3.5\"].apply(create_list)\n",
    "df[\"diagnosis_Claude3\"] = df[\"diagnosis_Claude3\"].apply(create_list)\n",
    "df[\"diagnosis_Haiku\"] = df[\"diagnosis_Haiku\"].apply(create_list)\n",
    "df[\"diagnosis_Claude3.5_Clinical\"] = df[\"diagnosis_Claude3.5_Clinical\"].apply(create_list)\n",
    "df[\"diagnosis_Claude3_Clinical\"] = df[\"diagnosis_Claude3_Clinical\"].apply(create_list)\n",
    "df[\"diagnosis_Haiku_Clinical\"] = df[\"diagnosis_Haiku_Clinical\"].apply(create_list)"
   ]
  },
  {
   "cell_type": "markdown",
   "metadata": {},
   "source": [
    "## function to remove the numeration in some of the predictions"
   ]
  },
  {
   "cell_type": "code",
   "execution_count": null,
   "metadata": {},
   "outputs": [],
   "source": [
    "def remove_numeration(entry):\n",
    "    # Use regular expression to remove leading numeration only for '1.', '2.', or '3.'\n",
    "    return re.sub(r'^[1-3]\\.\\s*', '', entry)\n",
    "\n",
    "# Apply the function to each list in the column\n",
    "df[\"diagnosis_Claude3.5\"] = df[\"diagnosis_Claude3.5\"].apply(lambda lst: [remove_numeration(entry) for entry in lst] if isinstance(lst, list) else lst)\n",
    "df[\"diagnosis_Claude3\"] = df[\"diagnosis_Claude3\"].apply(lambda lst: [remove_numeration(entry) for entry in lst] if isinstance(lst, list) else lst)\n",
    "df[\"diagnosis_Haiku\"] = df[\"diagnosis_Haiku\"].apply(lambda lst: [remove_numeration(entry) for entry in lst] if isinstance(lst, list) else lst)\n",
    "df[\"diagnosis_Claude3.5_Clinical\"] = df[\"diagnosis_Claude3.5_Clinical\"].apply(lambda lst: [remove_numeration(entry) for entry in lst] if isinstance(lst, list) else lst)\n",
    "df[\"diagnosis_Claude3_Clinical\"] = df[\"diagnosis_Claude3_Clinical\"].apply(lambda lst: [remove_numeration(entry) for entry in lst] if isinstance(lst, list) else lst)\n",
    "df[\"diagnosis_Haiku_Clinical\"] = df[\"diagnosis_Haiku_Clinical\"].apply(lambda lst: [remove_numeration(entry) for entry in lst] if isinstance(lst, list) else lst)\n"
   ]
  },
  {
   "cell_type": "markdown",
   "metadata": {},
   "source": [
    "## Cleaning the Dataframe for clarity"
   ]
  },
  {
   "cell_type": "code",
   "execution_count": null,
   "metadata": {},
   "outputs": [],
   "source": [
    "df = df.drop(columns=[\"diag_spec_Claude3.5\", \"diag_spec_Claude3\", \"diag_spec_Haiku\", \"diag_spec_Claude3.5_Clinical\", \"diag_spec_Claude3_Clinical\", \"diag_spec_Haiku_Clinical\"])\n",
    "\n",
    "\n",
    "## save file\n",
    "df.to_csv('MIMIC-IV-Ext-Diagnosis-prediction.csv', index=False)"
   ]
  },
  {
   "cell_type": "markdown",
   "metadata": {},
   "source": [
    "# Additional Postprocessing"
   ]
  },
  {
   "cell_type": "code",
   "execution_count": null,
   "metadata": {},
   "outputs": [],
   "source": [
    "## load dataframes from above\n",
    "spec = pd.read_csv(\"MIMIC-IV-Ext-Specialty-prediction.csv\")\n",
    "diag = pd.read_csv(\"MIMIC-IV-Ext-Diagnosis-prediction.csv\")\n",
    "triage = pd.read_csv(\"MIMIC-IV-Ext-Diagnosis-Triage-prediction.csv\")"
   ]
  },
  {
   "cell_type": "code",
   "execution_count": null,
   "metadata": {},
   "outputs": [],
   "source": [
    "## Convert the specialty rows into lists - data in columns are stored as strings but actually represent lists\n",
    "spec['specialty_primary_diagnosis'] = spec['specialty_primary_diagnosis'].apply(lambda x: eval(x))\n",
    "\n",
    "\n",
    "## delete empty specialties and initial vitals\n",
    "mask1 = spec[\"specialty_primary_diagnosis\"].str.len() == 0\n",
    "mask2 = spec[\"initial_vitals\"].isna()\n",
    "mask = pd.Index(mask1 | mask2)\n",
    "spec = spec[~mask]\n",
    "diag = diag[~mask]\n",
    "triage = triage[~mask]\n",
    "\n",
    "## delete these row due to no possible output from the LLM\n",
    "spec = spec.drop([795,2176,1208], inplace=False)\n",
    "diag = diag.drop([795,2176,1208], inplace=False)\n",
    "triage = triage.drop([795,2176,1208], inplace=False)\n",
    "\n",
    "\n",
    "## delete where specialty gt is \"no answer\"\n",
    "mask = ~spec[\"specialty_primary_diagnosis\"].apply(lambda x: any(item == \"no answer\" for item in x))\n",
    "spec = spec[mask]\n",
    "diag = diag[mask]\n",
    "triage = triage[mask]\n",
    "\n",
    "\n",
    "## convert triage/acuity to type int\n",
    "triage[\"triage_Claude3.5\"] = triage[\"triage_Claude3.5\"].astype(int)\n",
    "triage[\"triage_Claude3\"] = triage[\"triage_Claude3\"].astype(int)\n",
    "triage[\"triage_Haiku\"] = triage[\"triage_Haiku\"].astype(int)\n",
    "triage[\"triage_Claude3.5_Clinical\"] = triage[\"triage_Claude3.5_Clinical\"].astype(int)\n",
    "triage[\"triage_Claude3_Clinical\"] = triage[\"triage_Claude3_Clinical\"].astype(int)\n",
    "triage[\"triage_Haiku_Clinical\"] = triage[\"triage_Haiku_Clinical\"].astype(int)\n",
    "\n",
    "\n",
    "## extract first 2000 values\n",
    "spec = spec[:2000]\n",
    "diag = diag[:2000]\n",
    "triage = triage[:2000]\n",
    "\n",
    "\n",
    "## save files\n",
    "spec.to_csv('MIMIC-IV-Ext-Specialty-prediction.csv', index=False)\n",
    "diag.to_csv('MIMIC-IV-Ext-Diagnosis-prediction.csv', index=False)\n",
    "triage.to_csv('MIMIC-IV-Ext-Triage-prediction.csv', index=False)"
   ]
  }
 ],
 "metadata": {
  "kernelspec": {
   "display_name": "envphd",
   "language": "python",
   "name": "python3"
  },
  "language_info": {
   "codemirror_mode": {
    "name": "ipython",
    "version": 3
   },
   "file_extension": ".py",
   "mimetype": "text/x-python",
   "name": "python",
   "nbconvert_exporter": "python",
   "pygments_lexer": "ipython3",
   "version": "3.10.13"
  }
 },
 "nbformat": 4,
 "nbformat_minor": 2
}
